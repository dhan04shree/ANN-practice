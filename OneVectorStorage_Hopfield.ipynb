{
 "cells": [
  {
   "cell_type": "code",
   "execution_count": 1,
   "id": "8fd130c3",
   "metadata": {},
   "outputs": [
    {
     "name": "stdout",
     "output_type": "stream",
     "text": [
      "Recalled: [1 1 1 0], Success: True\n"
     ]
    }
   ],
   "source": [
    "import numpy as np\n",
    "\n",
    "# Convert between binary and bipolar representations\n",
    "def bipolar_to_binary(pattern): return (pattern + 1) // 2\n",
    "def binary_to_bipolar(pattern): return 2 * pattern - 1\n",
    "\n",
    "# Calculate weight matrix using Hebbian learning\n",
    "def calculate_weights(pattern):\n",
    "    W = np.outer(pattern, pattern)\n",
    "    np.fill_diagonal(W, 0)  # No self-connections\n",
    "    return W\n",
    "\n",
    "# Recall function\n",
    "def recall(noisy_pattern, W, original_pattern, max_iter=10):\n",
    "    state = noisy_pattern.copy()\n",
    "    \n",
    "    for iteration in range(max_iter):\n",
    "        old_state = state.copy()\n",
    "        for i in range(len(state)):\n",
    "            # Convert to bipolar for calculation\n",
    "            bipolar_state = binary_to_bipolar(state)\n",
    "            net_input = np.dot(bipolar_state, W[:, i])\n",
    "            \n",
    "            # Update neuron\n",
    "            state[i] = 1 if net_input > 0 else 0 if net_input < 0 else state[i]\n",
    "            \n",
    "        # Check for convergence\n",
    "        if np.array_equal(state, original_pattern) or np.array_equal(state, old_state):\n",
    "            return state, np.array_equal(state, original_pattern)\n",
    "    \n",
    "    return state, False\n",
    "\n",
    "# Main execution\n",
    "original_bipolar = np.array([1, 1, 1, -1])\n",
    "original_binary = bipolar_to_binary(original_bipolar)\n",
    "noisy = np.array([0, 0, 1, 0])\n",
    "\n",
    "# Calculate weights (using bipolar pattern)\n",
    "W = calculate_weights(original_bipolar)\n",
    "\n",
    "# Run recall\n",
    "result, converged = recall(noisy, W, original_binary)\n",
    "print(f\"Recalled: {result}, Success: {converged}\")"
   ]
  }
 ],
 "metadata": {
  "kernelspec": {
   "display_name": "Python 3",
   "language": "python",
   "name": "python3"
  },
  "language_info": {
   "codemirror_mode": {
    "name": "ipython",
    "version": 3
   },
   "file_extension": ".py",
   "mimetype": "text/x-python",
   "name": "python",
   "nbconvert_exporter": "python",
   "pygments_lexer": "ipython3",
   "version": "3.12.6"
  }
 },
 "nbformat": 4,
 "nbformat_minor": 5
}
