{
 "cells": [
  {
   "cell_type": "code",
   "execution_count": 2,
   "id": "9b6eebc8",
   "metadata": {},
   "outputs": [
    {
     "name": "stdout",
     "output_type": "stream",
     "text": [
      "x1  x2   output\n",
      "0 0 0\n",
      "0 1 0\n",
      "1 0 1\n",
      "1 1 0\n"
     ]
    }
   ],
   "source": [
    "import numpy as np\n",
    "w1 = int(input(\"Enter w1\"))\n",
    "w2 = int(input(\"Enter w2\"))\n",
    "theta = int(input(\"Enter theta\"))\n",
    "\n",
    "def ANDNOT(x1,x2,w1,w2,theta):\n",
    "    y = (x1 * w1) + (x2 * w2)\n",
    "    return 1 if y >= theta else 0\n",
    "\n",
    "x = [[0,0],[0,1],[1,0],[1,1]]\n",
    "print(\"x1  x2   output\")\n",
    "for x1,x2 in x:\n",
    "    out = ANDNOT(x1,x2,w1,w2,theta)\n",
    "    print(x1,x2,out)\n"
   ]
  }
 ],
 "metadata": {
  "kernelspec": {
   "display_name": "Python 3",
   "language": "python",
   "name": "python3"
  },
  "language_info": {
   "codemirror_mode": {
    "name": "ipython",
    "version": 3
   },
   "file_extension": ".py",
   "mimetype": "text/x-python",
   "name": "python",
   "nbconvert_exporter": "python",
   "pygments_lexer": "ipython3",
   "version": "3.12.6"
  }
 },
 "nbformat": 4,
 "nbformat_minor": 5
}
