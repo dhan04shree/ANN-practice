{
 "cells": [
  {
   "cell_type": "code",
   "execution_count": 3,
   "id": "0cbc4da4",
   "metadata": {},
   "outputs": [
    {
     "name": "stdout",
     "output_type": "stream",
     "text": [
      "Number : 0 ASCII: [1, 1, 1, 0, 1, 1, 1] Predicition: Even\n",
      "Number : 1 ASCII: [0, 0, 1, 0, 0, 1, 0] Predicition: Odd\n",
      "Number : 2 ASCII: [1, 0, 1, 1, 1, 0, 1] Predicition: Even\n",
      "Number : 3 ASCII: [1, 0, 1, 1, 0, 1, 1] Predicition: Odd\n",
      "Number : 4 ASCII: [0, 1, 1, 1, 0, 1, 0] Predicition: Even\n",
      "Number : 5 ASCII: [1, 1, 0, 1, 0, 1, 1] Predicition: Odd\n",
      "Number : 6 ASCII: [1, 1, 0, 1, 1, 1, 1] Predicition: Even\n",
      "Number : 7 ASCII: [1, 0, 1, 0, 0, 1, 0] Predicition: Odd\n",
      "Number : 8 ASCII: [1, 1, 1, 1, 1, 1, 1] Predicition: Even\n",
      "Number : 9 ASCII: [1, 1, 1, 1, 0, 1, 1] Predicition: Odd\n"
     ]
    }
   ],
   "source": [
    "import numpy as np\n",
    "digits = {\n",
    "    '0':[1,1,1,0,1,1,1],\n",
    "    '1':[0,0,1,0,0,1,0],\n",
    "    '2':[1,0,1,1,1,0,1],\n",
    "    '3':[1,0,1,1,0,1,1],\n",
    "    '4':[0,1,1,1,0,1,0],\n",
    "    '5':[1,1,0,1,0,1,1],\n",
    "    '6':[1,1,0,1,1,1,1],\n",
    "    '7':[1,0,1,0,0,1,0],\n",
    "    '8':[1,1,1,1,1,1,1],\n",
    "    '9':[1,1,1,1,0,1,1],\n",
    "}\n",
    "X = np.array([digits[str(i)] for i in range(10)])\n",
    "y = np.array([i % 2 for i in range(10)])\n",
    "class Perceptron:\n",
    "    def __init__(self,learning_rate=0.1,n_iters=10):\n",
    "        self.lr = learning_rate\n",
    "        self.n_iters = n_iters\n",
    "        self.weights = None\n",
    "        self.bias = None\n",
    "\n",
    "    def activation(self,X):\n",
    "        return np.where(X>=0,1,0)\n",
    "\n",
    "    def fit(self,X,y):\n",
    "        n_samples , n_features = X.shape\n",
    "\n",
    "        self.weights = np.zeros(n_features)\n",
    "        self.bias = 0\n",
    "\n",
    "        for _ in range(self.n_iters):\n",
    "            for idx,x_i in enumerate(X):\n",
    "                linear_output = np.dot(x_i,self.weights)+self.bias\n",
    "                y_predicted = self.activation(linear_output)\n",
    "\n",
    "                update = self.lr * (y[idx] - y_predicted)\n",
    "\n",
    "                self.weights += update * x_i\n",
    "                self.bias += update\n",
    "\n",
    "    def predict(self,X):\n",
    "        linear_output = np.dot(X,self.weights)+self.bias\n",
    "        y_predicted = self.activation(linear_output)\n",
    "        return y_predicted\n",
    "# Training data\n",
    "X = np.array([digits[str(i)] for i in range(10)])\n",
    "y = np.array([i % 2 for i in range(10)]) # 0 for even, 1 for odd\n",
    "\n",
    " \n",
    "p = Perceptron(learning_rate=0.1,n_iters=10)\n",
    "p.fit(X,y)\n",
    "\n",
    "\n",
    "for i in range(10):\n",
    "    prediction = p.predict(digits[str(i)])\n",
    "    print(f\"Number : {i} ASCII: {digits[str(i)]} Predicition: {'Even' if prediction == 0 else 'Odd'}\")\n",
    "    "
   ]
  }
 ],
 "metadata": {
  "kernelspec": {
   "display_name": "Python 3",
   "language": "python",
   "name": "python3"
  },
  "language_info": {
   "codemirror_mode": {
    "name": "ipython",
    "version": 3
   },
   "file_extension": ".py",
   "mimetype": "text/x-python",
   "name": "python",
   "nbconvert_exporter": "python",
   "pygments_lexer": "ipython3",
   "version": "3.12.6"
  }
 },
 "nbformat": 4,
 "nbformat_minor": 5
}
